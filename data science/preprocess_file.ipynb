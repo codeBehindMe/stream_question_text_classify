{
 "cells": [
  {
   "cell_type": "markdown",
   "metadata": {},
   "source": [
    "## CAmper Initiation - Data Preprocessing\n",
    "This notebook contains the descriptions for the preprocessing of the original data files.\n",
    "File named preprocess.py is the corresponding script to obtain the outputs from this notebook."
   ]
  },
  {
   "cell_type": "code",
   "execution_count": 1,
   "metadata": {
    "collapsed": true
   },
   "outputs": [],
   "source": [
    "# Start with imports\n",
    "import pandas as pd"
   ]
  },
  {
   "cell_type": "markdown",
   "metadata": {},
   "source": [
    "#### First glance\n",
    "From the readme files, we know that the data is pipe separated and is not very big. So we can try to load it straight into a pandas data frame.\n",
    "\n",
    "note:pandas defaults to utf-8 but seems like there aer non utf-8 chars in this file. Trying a few common encodings solved the problem, iso-8859-1 was the winner."
   ]
  },
  {
   "cell_type": "code",
   "execution_count": 2,
   "metadata": {
    "collapsed": true
   },
   "outputs": [],
   "source": [
    "_originalLabelled = pd.read_csv(\"./original_files/labeled_data.csv\", sep=\"|\", encoding='iso-8859-1', dtype=object)"
   ]
  },
  {
   "cell_type": "markdown",
   "metadata": {},
   "source": [
    "We should check to make sure that the pandas internals actual read the all the lines from the file. Let's just create a quick data health function to make sure that we are doing the right thing."
   ]
  },
  {
   "cell_type": "code",
   "execution_count": 4,
   "metadata": {
    "collapsed": false
   },
   "outputs": [
    {
     "name": "stdout",
     "output_type": "stream",
     "text": [
      "OK\n"
     ]
    }
   ],
   "source": [
    "def checkDataReadHealth(data):\n",
    "    # type: (pd.DataFrame) -> None\n",
    "    with open(\"./original_files/labeled_data.csv\") as file:\n",
    "        _data = file.readlines()\n",
    "    assert _originalLabelled.shape[0] == (len(_data) - 1)\n",
    "    print(\"OK\")\n",
    "checkDataReadHealth(_originalLabelled)"
   ]
  },
  {
   "cell_type": "markdown",
   "metadata": {},
   "source": [
    "#### Look and process\n",
    "Great, let's have a look at the head of the data just as a quick preview."
   ]
  },
  {
   "cell_type": "code",
   "execution_count": 5,
   "metadata": {
    "collapsed": false
   },
   "outputs": [
    {
     "data": {
      "text/html": [
       "<div>\n",
       "<style>\n",
       "    .dataframe thead tr:only-child th {\n",
       "        text-align: right;\n",
       "    }\n",
       "\n",
       "    .dataframe thead th {\n",
       "        text-align: left;\n",
       "    }\n",
       "\n",
       "    .dataframe tbody tr th {\n",
       "        vertical-align: top;\n",
       "    }\n",
       "</style>\n",
       "<table border=\"1\" class=\"dataframe\">\n",
       "  <thead>\n",
       "    <tr style=\"text-align: right;\">\n",
       "      <th></th>\n",
       "      <th>question_text</th>\n",
       "      <th>code,,</th>\n",
       "    </tr>\n",
       "  </thead>\n",
       "  <tbody>\n",
       "    <tr>\n",
       "      <th>0</th>\n",
       "      <td>I know what my goals are and what I need to do...</td>\n",
       "      <td>ALI.5   ,,</td>\n",
       "    </tr>\n",
       "    <tr>\n",
       "      <th>1</th>\n",
       "      <td>I feel like I can be successful in my role</td>\n",
       "      <td>ALI.5   ,,</td>\n",
       "    </tr>\n",
       "    <tr>\n",
       "      <th>2</th>\n",
       "      <td>30. I know what I need to do to be successful ...</td>\n",
       "      <td>ALI.5   ,,</td>\n",
       "    </tr>\n",
       "    <tr>\n",
       "      <th>3</th>\n",
       "      <td>I understand my role and what is expected of me</td>\n",
       "      <td>ALI.5   ,,</td>\n",
       "    </tr>\n",
       "    <tr>\n",
       "      <th>4</th>\n",
       "      <td>I know what is expected of me in my role.</td>\n",
       "      <td>ALI.5   ,,</td>\n",
       "    </tr>\n",
       "  </tbody>\n",
       "</table>\n",
       "</div>"
      ],
      "text/plain": [
       "                                       question_text      code,,\n",
       "0  I know what my goals are and what I need to do...  ALI.5   ,,\n",
       "1         I feel like I can be successful in my role  ALI.5   ,,\n",
       "2  30. I know what I need to do to be successful ...  ALI.5   ,,\n",
       "3    I understand my role and what is expected of me  ALI.5   ,,\n",
       "4          I know what is expected of me in my role.  ALI.5   ,,"
      ]
     },
     "execution_count": 5,
     "metadata": {},
     "output_type": "execute_result"
    }
   ],
   "source": [
    "_originalLabelled.head()"
   ]
  },
  {
   "cell_type": "markdown",
   "metadata": {},
   "source": [
    "Looks like the code column can use some cleaning, let's quickly set up a function to do so. It's probably not required in the notebook, but I set this up because it's more readable in the script file."
   ]
  },
  {
   "cell_type": "code",
   "execution_count": 6,
   "metadata": {
    "collapsed": false
   },
   "outputs": [
    {
     "data": {
      "text/plain": [
       "array(['ALI.5', 'nan', 'ENA.3', 'TEA.2', 'INN.2'], dtype=object)"
      ]
     },
     "execution_count": 6,
     "metadata": {},
     "output_type": "execute_result"
    }
   ],
   "source": [
    "def cleanUpCodeColumn(originalData):\n",
    "    # type: (pd.DataFrame) -> pd.DataFrame\n",
    "\n",
    "    \"\"\"\n",
    "    Cleans the code column and the dataframe by:\n",
    "    1. Renaming the code column to remove the commas.\n",
    "    2. Removing whitespace and commas from the code column values.\n",
    "    :param originalData: Pandas dataframe containing the original data.\n",
    "    :return: Cleaned up dataframe.\n",
    "    \"\"\"\n",
    "\n",
    "    _local = originalData.copy()\n",
    "    _local.columns = ['question_text', 'code']\n",
    "\n",
    "    _local['code'] = _local['code'].apply(lambda x: str(x).split(',')[0].strip())\n",
    "\n",
    "    assert originalData.shape == _local.shape\n",
    "\n",
    "    return _local\n",
    "\n",
    "_cleanLabel = cleanUpCodeColumn(_originalLabelled)\n",
    "_cleanLabel['code'].unique()"
   ]
  },
  {
   "cell_type": "markdown",
   "metadata": {},
   "source": [
    "Hmm, looks like there is a sneaky 'nan' in there. Probably because there's a missing value in there. Let's get rid of that."
   ]
  },
  {
   "cell_type": "code",
   "execution_count": 7,
   "metadata": {
    "collapsed": false
   },
   "outputs": [
    {
     "data": {
      "text/plain": [
       "array(['ALI.5', 'ENA.3', 'TEA.2', 'INN.2'], dtype=object)"
      ]
     },
     "execution_count": 7,
     "metadata": {},
     "output_type": "execute_result"
    }
   ],
   "source": [
    "_cleanLabel = _cleanLabel.loc[_cleanLabel['code'] != 'nan']\n",
    "_cleanLabel['code'].unique()"
   ]
  },
  {
   "cell_type": "markdown",
   "metadata": {},
   "source": [
    "Excellent. Output the processed file and move on to the EDA / Wrangling stage. Set the encoding to utf-8, no real reason, just pandas defaults to it. I don't actually do this in the notebook, running the preprocess.py will do."
   ]
  },
  {
   "cell_type": "code",
   "execution_count": null,
   "metadata": {
    "collapsed": true
   },
   "outputs": [],
   "source": []
  }
 ],
 "metadata": {
  "kernelspec": {
   "display_name": "Python 3",
   "language": "python",
   "name": "python3"
  },
  "language_info": {
   "codemirror_mode": {
    "name": "ipython",
    "version": 3
   },
   "file_extension": ".py",
   "mimetype": "text/x-python",
   "name": "python",
   "nbconvert_exporter": "python",
   "pygments_lexer": "ipython3",
   "version": "3.5.2"
  }
 },
 "nbformat": 4,
 "nbformat_minor": 0
}
